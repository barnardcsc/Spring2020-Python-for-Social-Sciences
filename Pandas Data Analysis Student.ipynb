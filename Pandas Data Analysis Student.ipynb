{
 "cells": [
  {
   "cell_type": "markdown",
   "metadata": {},
   "source": [
    "## Data Analysis in Python\n",
    "\n",
    "This guide is adapted from an earlier version designed by Yasmine Kaya (BC '19), which was based on the Empirical Reasoning Center's intro to excel for data analysis workshop. \n",
    "\n",
    "We will work with data compiled by FiveThirtyEight on the age of members of congress, from 1947 through 2014. The original article can be found [here](https://fivethirtyeight.com/features/both-republicans-and-democrats-have-an-age-problem/), and the data and code can be found [here](https://github.com/fivethirtyeight/data/tree/master/congress-age).\n",
    "\n",
    "This workshop is meant to cover the basics of data analysis in Pandas, Python's data analysis library. If you are interested in data cleaning, see [this guide](https://github.com/Barnard-Computational-Science-Center/data-cleaning-fall19) from the CSC.\n"
   ]
  },
  {
   "cell_type": "markdown",
   "metadata": {},
   "source": [
    "### What is Python?\n",
    "Python is a modern, high-level programming language with many possible applications, including processing, cleaning, analyzing, and visualizing data.  Python and R are two of the most popular languages for data analysis.  While both applications can perform many of the same tasks, Python is commonly considered a **general-purpose programming language**, where R was developed specifically for statistical analysis.  However, as **open source** languages, users and programmers continually develop packages to address the weaknesses of both R and Python.\n",
    "\n",
    "Among the strengths of Python are its **flexibility**, **easy-to-share** notebooks, and **readability** (thus shorter learning curve!).\n",
    "\n",
    "If you are trying to decide where to invest your coding efforts, you can find many discussions on the internet that might help you decide if R or Python is likely to be more useful to you.  The DataCamp website has a nice comparison here: https://www.datacamp.com/community/tutorials/r-or-python-for-data-analysis#gs.TUFrz28.\n",
    "\n",
    "#### Using Python\n",
    "\n",
    "Though there are many ways to use Python, today we will focus on **Jupyter notebooks**.  Notebooks provide a **graphical interface**, as oposed to the command line interface providing a user-friendly option for writing, debugging, and running code.  Jupyter notebooks, accessible via Anaconda Navigator, operate in your browser and allow you to include in-line results and outputs as well as formatted text.\n",
    "\n",
    "Python is implemented for many different tasks, but in this workshop, we will cover on key aspects of handling and analyzing data.  There are many Python tutorials online, which can provide more comprehensive instructions.  \n",
    "\n",
    "#### Getting Started\n",
    "\n",
    "A few notes about writing and executing Python code in Jupyter notebooks:\n",
    "\n",
    "* You will write your code in a *cell*\n",
    "* To manage cells, use the **Cell** menu located along the top of your screen\n",
    "* There are different types of cells-- you will need Markdown for text and code cells for code \n",
    "* There are several ways to run code\n",
    "    + use control + enter (Mac) or CTRL + enter (Windows) to run a cell\n",
    "    + use **shift + enter** to run a cell and select the next cell\n",
    "* Note that the **Help** menu includes a User Interface Tour as well as a comprehensive guide to keyboard shortcuts\n",
    "* In **code cells**, the hash sign (**#**) indicates a **comment**, i.e., text written "
   ]
  },
  {
   "cell_type": "markdown",
   "metadata": {},
   "source": [
    "### Importing Libraries\n",
    "The first thing we'll do is import some libraries. Since python is open-source, there are a large variety of libraries that build on python's framework, similar to R. Pandas, which allows us to store information in dataframe format, is the standard for data analysis in python. Matplotlib is the most basic python library for data visualization. We import warnings to suppress warnings, since we'll get some pesky warnings when working with charts later."
   ]
  },
  {
   "cell_type": "code",
   "execution_count": null,
   "metadata": {},
   "outputs": [],
   "source": [
    "import pandas as pd\n",
    "import numpy as np\n",
    "import matplotlib.pyplot as plt\n",
    "%matplotlib inline\n",
    "import warnings\n",
    "warnings.filterwarnings('ignore')"
   ]
  },
  {
   "cell_type": "markdown",
   "metadata": {},
   "source": [
    "### Importing Data\n",
    "Pandas can be used to create dataframes, but it can also be used to read other data formats. When using a pandas function, we put pd in front. In this case, read_csv is our function, and it takes the path of a csv as its input. Pandas also has functions for reading a variety of other data formats, including JSON.\n",
    "\n",
    "We'll name our dataframe 'df,' but if we were working with more than one dataframe, we would need to call it something more descriptive, such as 'congress_df.' Like all other variable names, dataframe names cannot contain spaces."
   ]
  },
  {
   "cell_type": "code",
   "execution_count": null,
   "metadata": {},
   "outputs": [],
   "source": []
  },
  {
   "cell_type": "markdown",
   "metadata": {},
   "source": [
    "### Exploring the data\n",
    "First, let's explore some of the variables contained in our dataset. Note that this dataset contains a row for every member of congress during a particular congress. So, if one person served during the 80th congress and the 81st congress, they will be listed twice. However, it will not be a duplicate value, since the congress, termstart, and possibly incumbent variables will be different. The bioguide variable is the best unique identifier for members of congress.\n",
    "\n",
    "The .head() function allows us to inspect our dataframe, showing the first 5 observations. Even though head() takes no input, it still requires an empty (), because it is a function. Notice that pandas automatically assigned an index to our dataframe, in the far left column. Python's indexes begin at 0, unlike R, which start at 1."
   ]
  },
  {
   "cell_type": "code",
   "execution_count": null,
   "metadata": {},
   "outputs": [],
   "source": []
  },
  {
   "cell_type": "markdown",
   "metadata": {},
   "source": [
    "We can also view or filter our dataframe using its index. Below are a few examples"
   ]
  },
  {
   "cell_type": "code",
   "execution_count": null,
   "metadata": {},
   "outputs": [],
   "source": []
  },
  {
   "cell_type": "code",
   "execution_count": null,
   "metadata": {},
   "outputs": [],
   "source": []
  },
  {
   "cell_type": "code",
   "execution_count": null,
   "metadata": {},
   "outputs": [],
   "source": []
  },
  {
   "cell_type": "code",
   "execution_count": null,
   "metadata": {},
   "outputs": [],
   "source": []
  },
  {
   "cell_type": "code",
   "execution_count": null,
   "metadata": {},
   "outputs": [],
   "source": []
  },
  {
   "cell_type": "code",
   "execution_count": null,
   "metadata": {},
   "outputs": [],
   "source": []
  },
  {
   "cell_type": "code",
   "execution_count": null,
   "metadata": {},
   "outputs": [],
   "source": []
  },
  {
   "cell_type": "markdown",
   "metadata": {},
   "source": [
    "### Summarizing data\n",
    "\n",
    "We'll use .describe() and .value_counts() to summarize quantitative and qualitative data, respectively. "
   ]
  },
  {
   "cell_type": "code",
   "execution_count": null,
   "metadata": {},
   "outputs": [],
   "source": []
  },
  {
   "cell_type": "code",
   "execution_count": null,
   "metadata": {},
   "outputs": [],
   "source": []
  },
  {
   "cell_type": "code",
   "execution_count": null,
   "metadata": {},
   "outputs": [],
   "source": []
  },
  {
   "cell_type": "code",
   "execution_count": null,
   "metadata": {},
   "outputs": [],
   "source": []
  },
  {
   "cell_type": "code",
   "execution_count": null,
   "metadata": {},
   "outputs": [],
   "source": []
  },
  {
   "cell_type": "code",
   "execution_count": null,
   "metadata": {},
   "outputs": [],
   "source": []
  },
  {
   "cell_type": "code",
   "execution_count": null,
   "metadata": {},
   "outputs": [],
   "source": []
  },
  {
   "cell_type": "markdown",
   "metadata": {},
   "source": [
    "### Creating new variables\n",
    "\n",
    "We want to calculate the age of each congress member at the start of their term. We can do this by finding the difference in years between termstart and birthday. However, both are formatted as strings, and will therfore need to be converted to datetime objects, using a built in pandas function called .to_datetime()."
   ]
  },
  {
   "cell_type": "code",
   "execution_count": null,
   "metadata": {},
   "outputs": [],
   "source": []
  },
  {
   "cell_type": "code",
   "execution_count": null,
   "metadata": {},
   "outputs": [],
   "source": []
  },
  {
   "cell_type": "code",
   "execution_count": null,
   "metadata": {},
   "outputs": [],
   "source": []
  },
  {
   "cell_type": "markdown",
   "metadata": {},
   "source": [
    "Let's use this new variable to summarize more information."
   ]
  },
  {
   "cell_type": "code",
   "execution_count": null,
   "metadata": {},
   "outputs": [],
   "source": []
  },
  {
   "cell_type": "code",
   "execution_count": null,
   "metadata": {},
   "outputs": [],
   "source": []
  },
  {
   "cell_type": "code",
   "execution_count": null,
   "metadata": {},
   "outputs": [],
   "source": []
  },
  {
   "cell_type": "code",
   "execution_count": null,
   "metadata": {},
   "outputs": [],
   "source": []
  },
  {
   "cell_type": "code",
   "execution_count": null,
   "metadata": {},
   "outputs": [],
   "source": []
  },
  {
   "cell_type": "markdown",
   "metadata": {},
   "source": [
    "We can also create a new categorical variable, perhaps using age brackets. The numbers used here are the ones the census uses."
   ]
  },
  {
   "cell_type": "code",
   "execution_count": null,
   "metadata": {},
   "outputs": [],
   "source": []
  },
  {
   "cell_type": "code",
   "execution_count": null,
   "metadata": {},
   "outputs": [],
   "source": []
  },
  {
   "cell_type": "code",
   "execution_count": null,
   "metadata": {},
   "outputs": [],
   "source": []
  },
  {
   "cell_type": "markdown",
   "metadata": {},
   "source": [
    "### Crosstabs and pivot tables\n",
    "Both crosstabs and pivot tables allow us to pivot multiple variables against each other. The syntax is slightly different for each, but they essentially do the same thing."
   ]
  },
  {
   "cell_type": "code",
   "execution_count": null,
   "metadata": {},
   "outputs": [],
   "source": []
  },
  {
   "cell_type": "code",
   "execution_count": null,
   "metadata": {},
   "outputs": [],
   "source": []
  },
  {
   "cell_type": "code",
   "execution_count": null,
   "metadata": {},
   "outputs": [],
   "source": []
  },
  {
   "cell_type": "code",
   "execution_count": null,
   "metadata": {},
   "outputs": [],
   "source": []
  },
  {
   "cell_type": "code",
   "execution_count": null,
   "metadata": {},
   "outputs": [],
   "source": []
  },
  {
   "cell_type": "code",
   "execution_count": null,
   "metadata": {},
   "outputs": [],
   "source": []
  },
  {
   "cell_type": "code",
   "execution_count": null,
   "metadata": {},
   "outputs": [],
   "source": []
  },
  {
   "cell_type": "code",
   "execution_count": null,
   "metadata": {},
   "outputs": [],
   "source": []
  },
  {
   "cell_type": "code",
   "execution_count": null,
   "metadata": {},
   "outputs": [],
   "source": []
  },
  {
   "cell_type": "code",
   "execution_count": null,
   "metadata": {},
   "outputs": [],
   "source": []
  },
  {
   "cell_type": "code",
   "execution_count": null,
   "metadata": {},
   "outputs": [],
   "source": []
  },
  {
   "cell_type": "markdown",
   "metadata": {},
   "source": [
    "### Visualizing data\n",
    "\n",
    "This is a good point to begin visualizing data, because the pivot table we just made would make an excellent line chart, showing the mean age of members of congress over time, by party. \n",
    "\n",
    "However, when we use the built in .plot function, we get some odd results."
   ]
  },
  {
   "cell_type": "code",
   "execution_count": null,
   "metadata": {},
   "outputs": [],
   "source": []
  },
  {
   "cell_type": "markdown",
   "metadata": {},
   "source": [
    "If we instead define the parameters for our plot using plt (which is what we called matplotlib.pyplot), we can get the map we want. For the sake of completeness, we'll only use democrats and republicans."
   ]
  },
  {
   "cell_type": "code",
   "execution_count": null,
   "metadata": {},
   "outputs": [],
   "source": []
  },
  {
   "cell_type": "markdown",
   "metadata": {},
   "source": [
    "In FiveThirtyEight's article, they show the age of 'new' members of congress, or the people who are not incumbents. Let's do the same, and we'll start by creating a new dataframe of 'newbies.'"
   ]
  },
  {
   "cell_type": "code",
   "execution_count": null,
   "metadata": {},
   "outputs": [],
   "source": []
  },
  {
   "cell_type": "code",
   "execution_count": null,
   "metadata": {},
   "outputs": [],
   "source": []
  },
  {
   "cell_type": "code",
   "execution_count": null,
   "metadata": {},
   "outputs": [],
   "source": []
  },
  {
   "cell_type": "code",
   "execution_count": null,
   "metadata": {},
   "outputs": [],
   "source": []
  },
  {
   "cell_type": "code",
   "execution_count": null,
   "metadata": {},
   "outputs": [],
   "source": []
  },
  {
   "cell_type": "code",
   "execution_count": null,
   "metadata": {},
   "outputs": [],
   "source": []
  },
  {
   "cell_type": "code",
   "execution_count": null,
   "metadata": {},
   "outputs": [],
   "source": []
  },
  {
   "cell_type": "code",
   "execution_count": null,
   "metadata": {},
   "outputs": [],
   "source": []
  },
  {
   "cell_type": "code",
   "execution_count": null,
   "metadata": {},
   "outputs": [],
   "source": []
  },
  {
   "cell_type": "markdown",
   "metadata": {},
   "source": [
    "Let's start by recreating our chart from above, just with the 'newbies.'"
   ]
  },
  {
   "cell_type": "code",
   "execution_count": null,
   "metadata": {},
   "outputs": [],
   "source": []
  },
  {
   "cell_type": "markdown",
   "metadata": {},
   "source": [
    "There are also other ways of exploring our data, such as histograms and boxplots. This will allow us to see a distribution. Note, however, that there are repeats in our data. For example, Joe Biden would be included several times as he aged up through congress. However, this isn't that much of an issue for us, because we are interested in the overall distribution of ages, and his age was different in those different congresses.\n",
    "\n",
    "We'll also start to add some features to our charts, such as labels, titles, and legends."
   ]
  },
  {
   "cell_type": "code",
   "execution_count": null,
   "metadata": {},
   "outputs": [],
   "source": []
  },
  {
   "cell_type": "code",
   "execution_count": null,
   "metadata": {},
   "outputs": [],
   "source": []
  },
  {
   "cell_type": "code",
   "execution_count": null,
   "metadata": {},
   "outputs": [],
   "source": []
  },
  {
   "cell_type": "markdown",
   "metadata": {},
   "source": [
    "### Styling data visualizations\n",
    "\n",
    "In addition to new elements, we can also change the styles of our data visualizations. Play around with a coupel of seaborn styles to find one you like. Seaborn is a statistical data visualizastion library built on matplotlib. The styles closely resemble ggplot2 in R. plt.style.available gives a list of available styles. As you can see, people (such as 538!) can create their own styles. After you run the style.use() function, run a code block that executes a plot to see the modified style in action."
   ]
  },
  {
   "cell_type": "code",
   "execution_count": null,
   "metadata": {},
   "outputs": [],
   "source": []
  },
  {
   "cell_type": "code",
   "execution_count": null,
   "metadata": {},
   "outputs": [],
   "source": []
  },
  {
   "cell_type": "code",
   "execution_count": null,
   "metadata": {},
   "outputs": [],
   "source": []
  },
  {
   "cell_type": "code",
   "execution_count": null,
   "metadata": {},
   "outputs": [],
   "source": []
  },
  {
   "cell_type": "code",
   "execution_count": null,
   "metadata": {},
   "outputs": [],
   "source": []
  },
  {
   "cell_type": "code",
   "execution_count": null,
   "metadata": {},
   "outputs": [],
   "source": []
  },
  {
   "cell_type": "code",
   "execution_count": null,
   "metadata": {},
   "outputs": [],
   "source": []
  },
  {
   "cell_type": "code",
   "execution_count": null,
   "metadata": {},
   "outputs": [],
   "source": []
  }
 ],
 "metadata": {
  "kernelspec": {
   "display_name": "Python 3",
   "language": "python",
   "name": "python3"
  },
  "language_info": {
   "codemirror_mode": {
    "name": "ipython",
    "version": 3
   },
   "file_extension": ".py",
   "mimetype": "text/x-python",
   "name": "python",
   "nbconvert_exporter": "python",
   "pygments_lexer": "ipython3",
   "version": "3.7.3"
  }
 },
 "nbformat": 4,
 "nbformat_minor": 2
}
